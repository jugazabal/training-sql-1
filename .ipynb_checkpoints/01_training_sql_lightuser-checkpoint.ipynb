{
 "cells": [
  {
   "cell_type": "markdown",
   "metadata": {
    "azdata_cell_guid": "6b65da84-c1cb-495f-a421-49cf9266a637"
   },
   "source": [
    "# Training: SQL (Light-users) 👩‍💻\n",
    "Welcome to the training notebook on using SQL.\n",
    "\n",
    "This notebook is pitched at light-users who perform basic querying operations to retrieve lightly-wrangled data from SQL.\n",
    "\n",
    "They will have **READ-ONLY** or higher access to the database.\n",
    "\n",
    "***\n",
    "\n",
    "## What is SQL? 🗃\n",
    "SQL stands for *structured-query-language* and amongst bedroom geeks like myself, is commonly referred to verbally as *'sequel'*, a shorthand for S-Q-L. (Two syllables instead of three). \n",
    "\n",
    "It is mainly used for the following cases:\n",
    "- Effectively storing data (especially at a larger scale)\n",
    "- Efficiently reshaping large-scale data in a format suitable for analysis\n",
    "- Rapidly performing simple computations of large-scale data\n",
    "    + Such as addition, subtraction, multiplication and division \n",
    "\n",
    "It is not so good for:\n",
    "- Customising the formatting of table outputs (use thangs like Excel or R for that) \n",
    "- Creating plots (use thangs like Excel or R for that)\n",
    "- Writing reports (use thangs like Word or R for that)\n",
    "- Nicely drawing maps (use thangs like R for that)\n",
    "    + Technically, can have maps displayed in SQL but they can look basic\n",
    "\n",
    "*Note when we say \"large-scale data\", we mean data that exceeds the amount of in-memory/RAM the computer in which you are doing your analysis has.*\n",
    "\n",
    "> **Tip:** - SQL is not case sensitive\n",
    "\n",
    "![SQL meme woman at cat image](https://live.staticflickr.com/65535/49136979022_bcbf5443aa_z.jpg \"SQL meme woman at cat image\")\n",
    "\n",
    "***\n",
    "\n",
    "## How do I use SQL? 💃\n",
    "Whereas this training session is being delivered in a **Azure Data Studio** notebook, it is recommended that you do most of your SQL-related work in Microsoft's **SQL Server Management Studio (SSMS)**.\n",
    "\n",
    "This is because SSMS offers a better graphical user interface (GUI) to enable you to easily explore databses, tables, Views, stored procedures etc. whereas Azure Data Studio does not have the same functionality.\n",
    "\n",
    "In SSMS, you can visually navigate around the Server; by expanding sub folders in the Object Explorer pane you can explore the databases you have access to. You can right click on the objects to perform particular actions, such as generating code to preview a table or viewing table properties.\n",
    "\n",
    "The following details will need to be entered to access the data:\n",
    "- Server: **<*your_sql_server_name*>**\n",
    "- Database: **AdventureWorks**\n",
    "\n",
    "The AdventureWorks database is a collection of tables which contain a sample dataset for us to play with. \n",
    "\n",
    "***\n",
    "\n",
    "## What will this session cover? 👁\n",
    "This session will show you how to do the following things in SQL:\n",
    "1. Basic relational database theory\n",
    "1. Basic query to retrieve all records from a table - `SELECT...`\n",
    "1. Choosing unique entries in a column - `DISTINCT`\n",
    "1. Filtering data from a table - `WHERE...`\n",
    "1. Sorting/Arranging/Ordering data from a table - `ORDER BY...`\n",
    "1. Grouping your data to aggregate it - `...<aggregatation_function> ... GROUP BY...`\n",
    "1. Joining data from different tables next to each other - `<join_type>...ON...` \n",
    "1. Attaching data from similarly structured tables on top of each other - `...UNION...`\n",
    "1. Creating new columns in your data - `...[<created_column_name>]`\n",
    "1. Changing columns to a different data type - `CAST([<column_name> AS <data_type>])...` \n",
    "1. Using conditional if-else statements - `CASE WHEN [<column_name>] = x THEN y...ELSE *<value_to_change_to> END...`\n",
    "\n",
    "\n",
    "***\n",
    "\n",
    "## Basic relational database theory and T-SQL 🧠\n",
    "\n",
    "Relational databases are the basis for SQL, and for all modern database systems such as MS SQL Server, IBM DB2, Oracle, MySQL, and Microsoft Access.\n",
    "\n",
    "A relational database is a collective set of multiple data sets organised by tables, records and columns. RDBs establish a well-defined relationship between database tables. Tables communicate and share information, which facilitates data search-ability, organisation and reporting.\n",
    "\n",
    "A core concept of relational databases is **reducing redundancy in data**. This means that it is aimed that data is stored once and only once. If data is redundant you risk the chance of contradiction which reduces data integrity. \n",
    "\n",
    "> **Example:** There are multiple different spellings of Local Authority names across the Department. A database should aim to have one table linking LA Numbers to LA Names and then use LA Numbers in any other related data sets. This should be applied accross all tables.\n",
    "\n",
    "**Tables** 🛏\n",
    "\n",
    "In SSMS, within the tables folder you will find all the raw data that is stored in the database.\n",
    "\n",
    "You can further expand the tables with the + symbol to take a look at its columns, keys etc. \n",
    "\n",
    "Columns are assigned a data type that they can not violate and if they are allowed to be blank or not. Most commonly used data types are as follows:\n",
    "\n",
    "- nvarchar/varchar - store text of different types\n",
    "- int - Integers (whole numbers)\n",
    "- decimal - for decimals of a specified precision\n",
    "- float - Floating point numbers\n",
    "\n",
    "Each table should have a *Primary Key* that all other fields in the table are related to. If this is set for a table then it will be viewable under the *Keys* section under tables. 🗝\n",
    "\n",
    "**Schemas** 👩‍👩‍👦\n",
    "\n",
    "Objects within a database can be grouped together into different Schema. \n",
    "\n",
    "Permissions on tables are generally inherited from permissions on the schemas, i.e. if you have permission to use a schema, you have permissions to use all the tables within it. \n",
    "\n",
    "**Transact-SQL**\n",
    "\n",
    "Transact-SQL (T-SQL) is the language we use to retrieve data from Microsoft SQL Databases. \n",
    "\n",
    "This section outlines the basic commands associated with this.\n",
    "\n",
    "> **Tip:** T-SQL is Microsoft specific and other variations of SQL will not always work on Microsoft SQL Databases due to differences in syntaxes.  \n",
    "\n",
    "This is important as if you are searching for solutions to common SQL problems online it will need to be a T-SQL solution to work with Microsoft databases.\n"
   ]
  },
  {
   "cell_type": "code",
   "execution_count": 2,
   "metadata": {
    "azdata_cell_guid": "552e7a7f-57ab-4031-a997-42b46221b582"
   },
   "outputs": [],
   "source": [
    "/* Set database to query from */\n",
    "USE [AdventureWorks];"
   ]
  },
  {
   "cell_type": "markdown",
   "metadata": {
    "azdata_cell_guid": "ef1fffb6-8a16-4618-b6af-ade56875f0ac"
   },
   "source": [
    "# 1. How do I retrieve data? 👓 \n",
    "A basic query in SQL composes of the `SELECT` statement. It enables you to retrueve records from one or more tables. Syntax as follows:\n",
    "\n",
    "```\n",
    "SELECT \n",
    "[column_name_1],\n",
    "...\n",
    "[column_name_n]\n",
    "FROM [schema_name].[table_name]\n",
    "```\n",
    "Replacing column names with * will return **all** of the columns in the data set.\n",
    "\n",
    "> **TIP:** `TOP` - Type and execute `SELECT TOP 1000 * FROM <table_name>` to get a feel for what a table *looks* like. Returning only the top 1000 rows will be quicker to load and allows you to briefly see what sort of values are in your chosen table. \n",
    "\n",
    "> **TIP FOR FORMATTING:** Putting the comma on a new line in front of the [column_name] allows you to quickly comment out columns you don't want to view.\n",
    "\n",
    "> **TIP FOR COMMENTING CODE:** Inserting `--` in front of code comments it out. The hot-key for commenting out a line or bulk selection in SQL is typically `Ctrl-K` then `Ctrl-C`. To uncomment, do `Ctrl-K` then `Ctrl-U`.\n",
    "\n"
   ]
  },
  {
   "cell_type": "code",
   "execution_count": 3,
   "metadata": {
    "azdata_cell_guid": "7fc9578a-f771-47bd-bafc-720577541512"
   },
   "outputs": [],
   "source": [
    "-- Conduct humble select statement\n",
    "-- to retrieve records on people's addresses\n",
    "SELECT \n",
    "    [AddressID]\n",
    "    ,[AddressLine1]\n",
    "    ,[City]\n",
    "    ,[StateProvinceID]\n",
    "    ,[PostalCode]\n",
    "FROM [Person].[Address];"
   ]
  },
  {
   "cell_type": "markdown",
   "metadata": {
    "azdata_cell_guid": "d5aab25c-8143-4ed7-9199-d9cb664c8475"
   },
   "source": [
    "# 2. What can I do to only return unique values in a column? 🥢\n",
    "Sometimes, you are only interested in seeing all the unique values in a column, such as to understand what are all the possible values that column can take. To do so, use the `DISTINCT` command.\n",
    "\n",
    "**USE CASE:** *As Head of Sales of a socially-irresponsible, run-of-the-mill global coffee chain that sells bland coffee and even blander customer service,  I want to see all the types of discounts we offer so that I can come up with new sale strategies that mask the quality of our products to improve sales.*"
   ]
  },
  {
   "cell_type": "code",
   "execution_count": 4,
   "metadata": {
    "azdata_cell_guid": "0823f85f-60d0-4359-9d79-f4b66994c75c"
   },
   "outputs": [],
   "source": [
    "-- retrive all unique types of discounts offered\n",
    "SELECT DISTINCT [Description]\n",
    "FROM [Sales].[SpecialOffer];"
   ]
  },
  {
   "cell_type": "markdown",
   "metadata": {
    "azdata_cell_guid": "26150689-e088-4d5b-8aae-1be2b3bc6c21"
   },
   "source": [
    "# 3. How do I retrieve specific data? 👽\n",
    "To retrieve/filter for specific records, rather than all records, you will need to use the `WHERE` clause in addition to the `SELECT` statement.\n",
    "\n",
    "> **USER STORY:** *As an veteran police investigator with a long and decorated track-record of using a range of persuasion techniques and tools to draw information out of criminals, I want to see all the address data for my city, so that I can see where my suspects live.*\n",
    "\n",
    "> **TIP:** To retrieve records based on a partial piece of text, you can utilise the `LIKE` operator and `%` wildcard. For instance, if you want to look for all cities beginning with \"Phe\", then you type and execute `SELECT * FROM [Person].[Address] WHERE [City] LIKE 'Phe%'`. Alternatively, if you want to look for all cities ending with \"nix\", then type and execute `SELECT * FROM [Person].[Address] WHERE [City] LIKE '%nix'`. Or if you want to look at all cities with \"eoni\" in them, then type and execute `SELECT * FROM [Person].[Address] WHERE [City] LIKE '%eoni%'`."
   ]
  },
  {
   "cell_type": "code",
   "execution_count": 5,
   "metadata": {
    "azdata_cell_guid": "032bae92-430d-4234-9122-1521abdadb95"
   },
   "outputs": [],
   "source": [
    "-- Retrieve all the people's addresses data\n",
    "-- who live in the city of 'Pheonix'\n",
    "SELECT \n",
    "    [AddressID]\n",
    "    ,[AddressLine1]\n",
    "    ,[City]\n",
    "    ,[StateProvinceID]\n",
    "    ,[PostalCode]\n",
    "FROM [Person].[Address]\n",
    "WHERE [City] = 'Phoenix';\n",
    "\n",
    "-- Retrieve all the people's addresses data\n",
    "-- who live in the city of 'Pheonix' or 'Cambridge'\n",
    "SELECT \n",
    "    [AddressID]\n",
    "    ,[AddressLine1]\n",
    "    ,[City]\n",
    "    ,[StateProvinceID]\n",
    "    ,[PostalCode]\n",
    "FROM [Person].[Address]\n",
    "WHERE [City] IN ('Phoenix', 'Cambridge');\n"
   ]
  },
  {
   "cell_type": "markdown",
   "metadata": {
    "azdata_cell_guid": "ae4ed6e4-9055-4852-8cf7-d0254bf01b32"
   },
   "source": [
    "# 4. How do I arrange the data in a specific order? 🐊\n",
    "To retrieve records and organise them in ascending or descending order, you will need to use the `ORDER BY` clause in addition to the `SELECT` statement.\n",
    "\n",
    "> **USER STORY:** *As an analyst for the central government of a surveillance society, I want to see all the address data for all cities, so I can see who I can focus my attentions on.*"
   ]
  },
  {
   "cell_type": "code",
   "execution_count": 5,
   "metadata": {
    "azdata_cell_guid": "3dd218af-ed37-4b5c-b704-9327707074d4"
   },
   "outputs": [],
   "source": [
    "-- Retrieve all the people's addresses data\n",
    "-- and sort them by city in ascending order\n",
    "SELECT \n",
    "    [AddressID]\n",
    "    ,[AddressLine1]\n",
    "    ,[City]\n",
    "    ,[StateProvinceID]\n",
    "    ,[PostalCode]\n",
    "FROM [Person].[Address]\n",
    "ORDER BY [City] ASC;"
   ]
  },
  {
   "cell_type": "markdown",
   "metadata": {
    "azdata_cell_guid": "f5cc2b4d-23ad-42ba-ba86-cc261417caf8"
   },
   "source": [
    "# 5. How do I perform aggregations on grouped variables? 🍹\n",
    "To retrive aggregated grouped records, such as a count of all the records belonging to a city, then you will need to combine the `GROUP BY` clause with an aggregation function, `SUM()`, `COUNT()`, `AVERAGE()`, `MEDIAN()`, `MODE()`, `MAX()` or `MIN()` \n",
    "\n",
    "> **USER STORY:** *As a third-rate hacker with no grudges nor malicious intent, I want to see all the records held for each state and city, so I can see how complete the secret service's individualised data is against population data that's helpfully published by the state.*"
   ]
  },
  {
   "cell_type": "code",
   "execution_count": 6,
   "metadata": {
    "azdata_cell_guid": "f3f3264f-3810-48d0-b0e0-6dea5c96af03"
   },
   "outputs": [],
   "source": [
    "-- Retrive a count of all the records belonging to each state and city combination\n",
    "SELECT\n",
    "    [StateProvinceID]\n",
    "    ,[City]\n",
    "    ,[CountRecords] = COUNT(*)\n",
    "FROM [Person].[Address]\n",
    "GROUP BY \n",
    "    [StateProvinceID]\n",
    "    ,[City];"
   ]
  },
  {
   "cell_type": "markdown",
   "metadata": {
    "azdata_cell_guid": "d6ea9a14-70e9-4f94-b5ed-e43f5a9c3e6e"
   },
   "source": [
    "# 6. How do I join multiple tables together? 🤺\n",
    "To join together multiple tables to bring in additional columns to work on, then you will need to include the `FROM <table_name_one> LEFT/RIGHT/INNER/FULL JOIN <table_name_two> ON <table_name_one_column_for_join> = <table_name_two_column_for_join` \n",
    "\n",
    "![SQL Join Image](https://www.dofactory.com/Images/sql-joins.png \"SQL Join image\")\n",
    "\n",
    "> **USER STORY:** *As an \"intelligence\" analyst for a rapidly-growing start-up seeking to aggresively expand into new markets within a highly-competitive industry, I want to see all the address records for each individual and business, so that I can see who owns a business within my industry and take gentle action to improve my company's success in entering the market.*\n",
    "\n",
    "> **TIP:** What's not often said is that sometimes, when you perform a `LEFT/RIGHT JOIN`, you get more records returned than what you initially had with the *left* or *right* table that you are joining on to - more than what you might expect. This happens because whilst you have a unique row for each column you are joining on to in the *left* or *right* table you are joining on to, you have \"duplicate\" rows in the *right* or *left* table you are joining in. \"Duplicate\" here meaning that you have duplicate rows based on the columns that you are joining on; the rows may be unique if more columns are included."
   ]
  },
  {
   "cell_type": "code",
   "execution_count": 7,
   "metadata": {
    "azdata_cell_guid": "f51704a0-ef31-425a-a872-7c665dd865b7"
   },
   "outputs": [],
   "source": [
    "-- Retrieve all records of people's addresses alongside their business addresses\n",
    "SELECT \n",
    "    table_address.[AddressID]\n",
    "    ,table_address.[AddressLine1]\n",
    "    ,table_address.[City]\n",
    "    ,table_address.[StateProvinceID]\n",
    "    ,table_address.[PostalCode]\n",
    "    ,table_business.[BusinessEntityID]\n",
    "    ,table_business.[AddressTypeID]\n",
    "FROM [Person].[Address] AS table_address\n",
    "LEFT JOIN [Person].[BusinessEntityAddress] AS table_business\n",
    "    ON table_address.[AddressID] = table_business.[AddressID];"
   ]
  },
  {
   "cell_type": "markdown",
   "metadata": {
    "azdata_cell_guid": "97503f8e-d07f-4793-b993-e33e4a35c38c"
   },
   "source": [
    "# 7. How do I attach multiple tables together? 🏖\n",
    "To append mutilple tables to increase the number of rows to work on, then you'll need to include the `UNION` operator between several `SELECT <column_name_one>...<column_name_n> FROM <table_name_i>` statements.\n",
    "\n",
    ">**USER STORY:** *As a grizzly consultant for the governors of Phoenix and New York, I want to see all the address records from an address table on the state \"Phoenix\" and an address table on the state of \"New York\", so that I can legitmise my falsified population growth forecasts of these two states and thereby improve my profile to reach new clients and swindle money from them.*\n",
    "\n",
    ">**NOTE:** You can only `UNION` tables that have the same columns.\n",
    "\n",
    "> **TIP:** `UNION` only brings together the different rows between the several tables whereas `UNION ALL` brings together all rows between the several tables, including duplicate ones."
   ]
  },
  {
   "cell_type": "code",
   "execution_count": 6,
   "metadata": {
    "azdata_cell_guid": "467b23ce-428d-40c1-b76e-2cd4820d90cf"
   },
   "outputs": [],
   "source": [
    "-- Retrieve all the people's addresses data\n",
    "-- who live in the city of 'Pheonix' and 'New York'\n",
    "SELECT \n",
    "    [AddressID]\n",
    "    ,[AddressLine1]\n",
    "    ,[City]\n",
    "    ,[StateProvinceID]\n",
    "    ,[PostalCode]\n",
    "FROM [Person].[Address]\n",
    "WHERE [City] = 'Phoenix'\n",
    "UNION\n",
    "SELECT \n",
    "    [AddressID]\n",
    "    ,[AddressLine1]\n",
    "    ,[City]\n",
    "    ,[StateProvinceID]\n",
    "    ,[PostalCode]\n",
    "FROM [Person].[Address]\n",
    "WHERE [City] = 'New York';"
   ]
  },
  {
   "cell_type": "markdown",
   "metadata": {
    "azdata_cell_guid": "56a09f99-7dce-4fe3-a113-9718727fe7fa"
   },
   "source": [
    "## EXERCISE: `UNION`-ing tables together\n",
    "**Question:** Based on what we covered so far, can you think of an alternative way of writing the above query in (7.)? Please write your answer in the cell below."
   ]
  },
  {
   "cell_type": "code",
   "execution_count": 0,
   "metadata": {
    "azdata_cell_guid": "fba7ecd8-86db-4195-bed4-5792530114f6"
   },
   "outputs": [],
   "source": [
    "-- please write your qeury here"
   ]
  },
  {
   "cell_type": "markdown",
   "metadata": {
    "azdata_cell_guid": "eb4424bb-328a-4eb7-8ef5-2e9357948e9e"
   },
   "source": [
    "# 8.0 Is there a way to create my own column to the data? 🥘\n",
    "\n",
    "To create an additional column to your queried table, you write the name of the new column within the list of columns specified in your `SELECT` statement.\n",
    "\n",
    "> **USER STORY:** *As a business analyst with questionable morals for the State Department of Defence, I want to include some contextual information that I know from experience in working with the state of Phoenix, so that senior military strategists can focus recruitment efforts for the next war to plunder another nation's natural resources.*"
   ]
  },
  {
   "cell_type": "code",
   "execution_count": 10,
   "metadata": {
    "azdata_cell_guid": "cba27299-1fc5-461c-b8fb-2a05b2e1e628"
   },
   "outputs": [],
   "source": [
    "-- Include contextual information as extra column\n",
    "SELECT \n",
    "    [AddressID]\n",
    "    ,[AddressLine1]\n",
    "    ,[City]\n",
    "    ,[StateProvinceID]\n",
    "    ,[Context] = 'Renowned for high-end spa resorts, Jack Nicklaus–designed golf courses and vibrant nightclubs'\n",
    "    ,[PostalCode]\n",
    "FROM [Person].[Address]\n",
    "WHERE [City] = 'Phoenix';"
   ]
  },
  {
   "cell_type": "markdown",
   "metadata": {
    "azdata_cell_guid": "4414d966-aaf9-475b-84d2-3aba0df1771f"
   },
   "source": [
    "# 8.1 Can I change the data type of my data? 🔊\n",
    "You may need to change the data type of columns in your data to perform certain operations such as:\n",
    "\n",
    "1. Changing to a `INT` or `FLOAT` datatype so you can use aggregation functions like `SUM` and `AVERAGE`.\n",
    "1. Changing to a `VARCHAR(n)` or `NVCARCHAR(n)` datatype so you can concatenate with other string/text columns.\n",
    "1. Changing the two columns that you're joining two tables together to the same datatype so they can join!\n",
    "\n",
    "To change the data type, you will need to build on (8.0) by creating or overwriting an existing column and utilise the `CAST()` command.\n",
    "\n",
    "> **USER STORY:** *As the Director of Strategy for a shady financial institution with clients of questionable standing, I want to see all credit cards with similar numbers recorded in our system to identify whose cards need replacing so they can evade the regulatory authorities.*"
   ]
  },
  {
   "cell_type": "code",
   "execution_count": 12,
   "metadata": {
    "azdata_cell_guid": "7312bb2f-1bb8-4e75-a488-181060574401"
   },
   "outputs": [],
   "source": [
    "-- Retrieve records of all credit card numbers that are similar\n",
    "-- where we mean similar by not having zero's at the front.\n",
    "-- Currently, the column of interest is treated as a nvarchar one,\n",
    "-- so '093455' is valid.\n",
    "-- By converting the column to an int one, it will then become '93455'.\n",
    "\n",
    "SELECT \n",
    "    [CardType]\n",
    "    ,[CardNumber] = CAST ([CardNumber] AS BIGINT)\n",
    "    ,[ExpMonth]\n",
    "    ,[ExpYear]\n",
    "FROM [Sales].[CreditCard];"
   ]
  },
  {
   "cell_type": "markdown",
   "metadata": {
    "azdata_cell_guid": "0b96593c-0d0a-4e3a-918c-eb388d451faf"
   },
   "source": [
    "## EXERCISE: `CAST`-ing column to a specified datatype\n",
    "**Question:** Using the `GETDATE()` function to get today's date and time, can you cast this to only get the date instead? Please write your answer in the cell below. \n",
    "\n",
    "**Note:** *A `SELECT` statement need not always end with `FROM <table_name>`.*"
   ]
  },
  {
   "cell_type": "code",
   "execution_count": 0,
   "metadata": {
    "azdata_cell_guid": "b1b246a4-bfea-4080-b4e6-4dbf1a9d081e"
   },
   "outputs": [],
   "source": [
    "-- please write your query here"
   ]
  },
  {
   "cell_type": "markdown",
   "metadata": {
    "azdata_cell_guid": "2197a7c5-5f08-4a61-8e46-8e801d2eaae3"
   },
   "source": [
    "# 8.2 How can I return a value based on another value in a different column? 🕹\n",
    "If you ever wanted to do the equivalent of an *if-else* statement, then the SQL equivalent is `[new_column_name] = CASE WHEN ... THEN ... END`. This builds on (7.0) as we need to create a new column.\n",
    "\n",
    "> **USER STORY:** *As a pencil-pusher for a large, faceless multinational corporation that sells a variety of wares, I want to see what the currency rates are so I can convert the value of our sales into our home currency.*\n",
    "\n",
    "> **RANT:** Really long and winding `CASE WHEN` statements are often undesirably seen in SQL code that is attempting to do what a lookup table is meant to do. Don't do a long and winding `CASE WHEN` statement, they're hard to read, and are the equivalent of nested *ifelse()* statements in Excel. Please, don't. One's eyes will bleed. \n"
   ]
  },
  {
   "cell_type": "code",
   "execution_count": 7,
   "metadata": {
    "azdata_cell_guid": "9526466c-db47-471c-ac58-c5de87f47b2f"
   },
   "outputs": [],
   "source": [
    "-- first and bad attempt to do a lookup\n",
    "-- from currency code to currnecy name\n",
    "SELECT \n",
    "    [FromCurrencyCode]\n",
    "    ,[FromCurrencyName] = CASE\n",
    "        WHEN [FromCurrencyCode] = 'AED' THEN 'Emirati Dirham'\n",
    "        WHEN [FromCUrrencyCode] = 'AFA' THEN 'Afghani'\n",
    "        WHEN [FromCurrencyCode] = 'ALL' THEN 'Lek'\n",
    "        -- and so on....damn, this is really tedious to type out\n",
    "        ELSE NULL\n",
    "        END\n",
    "    ,[ToCurrencyCode]\n",
    "    ,[AverageRate]\n",
    "    ,[EndOfDayRate]\n",
    "FROM [Sales].[CurrencyRate]\n",
    ";"
   ]
  },
  {
   "cell_type": "markdown",
   "metadata": {
    "azdata_cell_guid": "19213a35-8787-4680-bbdc-46e69a3b840a"
   },
   "source": [
    "## EXERCISE: Avoiding long and winding `CASE WHEN` statements\n",
    "**Question:** Using the `[Sales].[Currency]` as your look-up table, find a way to do what you aim to do in (8.2) but without using `CASE WHEN` statements. Please write your answer in the cell below.\n",
    "\n",
    "**Hint:** You might want refer to what we covered earlier.\n"
   ]
  },
  {
   "cell_type": "code",
   "execution_count": 0,
   "metadata": {
    "azdata_cell_guid": "3c4ebc2c-f90c-4ab5-9d7b-21ebf3fc905e"
   },
   "outputs": [],
   "source": [
    "-- please write your query here"
   ]
  },
  {
   "cell_type": "markdown",
   "metadata": {
    "azdata_cell_guid": "af9613dc-9f57-4078-a452-ba5ec3b2e9d5"
   },
   "source": [
    "## EXERCISE: `CAST`-ing columns so they can be concantenated\n",
    "**Question:** Using the `[ExpMonth]` and `[ExpYear]` columns, and assuming all expriation dates start on the first of each month, *e.g. 2018/05/01*, can you create a new column that has the full date of expiry, ensuring that this is of the date datatype? Please write your answer in the cell below. \n",
    "\n",
    "**Hint:** This exercise brings together the concepts learnt so far of:\n",
    "- Creating a new column\n",
    "- Casting columns to the right datatype\n",
    "- Using conditional if/else (`CASE WHEN`) statements\n",
    "\n",
    "You will also need to search how to concatenate columns and may possibly need to use the `LENGTH()` function.\n",
    "\n",
    "**Note:** This is actually quite a difficult exercise."
   ]
  },
  {
   "cell_type": "code",
   "execution_count": 0,
   "metadata": {
    "azdata_cell_guid": "c2f69e36-561a-4a59-af5e-ed944f5f4868"
   },
   "outputs": [],
   "source": [
    "-- please write your query here"
   ]
  },
  {
   "cell_type": "markdown",
   "metadata": {
    "azdata_cell_guid": "d34cd67f-77d9-47d8-abd1-34063d768195"
   },
   "source": [
    "## EXERCISE: Returning first non-`NULL` entry across multiple columns 🎲\n",
    "**Question:** Using the `COALESCE()` function, can you rewrite the below query?\n",
    "\n",
    "**Note:** This exercise shows you a shorthand way of creating a new column that takes the first non-`NULL` entry across several existing columns.\n",
    "\n",
    "```\n",
    "SELECT [Name]\n",
    "    ,[ProductNumber]\n",
    "    ,[ProductSubcategoryID]\n",
    "    ,[ProductModelID]\n",
    "    ,[ProductId] = CASE\n",
    "        WHEN [ProductSubcategoryID] IS NULL THEN [ProductModelID]\n",
    "        ELSE [ProductSubcategoryID]\n",
    "        END\n",
    "FROM [Production].[Product];\n",
    "```"
   ]
  },
  {
   "cell_type": "code",
   "execution_count": 0,
   "metadata": {
    "azdata_cell_guid": "291b56a5-ff83-4e7a-b2a3-7bd58d8dc645"
   },
   "outputs": [],
   "source": [
    "-- please write your query here"
   ]
  }
 ],
 "metadata": {
  "kernelspec": {
   "display_name": "Python 3 (ipykernel)",
   "language": "python",
   "name": "python3"
  },
  "language_info": {
   "codemirror_mode": {
    "name": "ipython",
    "version": 3
   },
   "file_extension": ".py",
   "mimetype": "text/x-python",
   "name": "python",
   "nbconvert_exporter": "python",
   "pygments_lexer": "ipython3",
   "version": "3.11.5"
  }
 },
 "nbformat": 4,
 "nbformat_minor": 2
}
