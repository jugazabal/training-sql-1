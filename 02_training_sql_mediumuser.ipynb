{
    "metadata": {
        "kernelspec": {
            "name": "SQL",
            "display_name": "SQL",
            "language": "sql"
        },
        "language_info": {
            "name": "sql",
            "version": ""
        }
    },
    "nbformat_minor": 2,
    "nbformat": 4,
    "cells": [
        {
            "cell_type": "markdown",
            "source": [
                "# Training: SQL (Medium-users) 🕵️‍♀️\n",
                "Welcome to the training notebook on using SQL.\n",
                "\n",
                "This notebook is pitched at medium-users who perform more advanced querying operations to retrieve heavily-wrangled data from SQL.\n",
                "\n",
                "They will have **READ-ONLY** or higher access to the database.\n",
                "\n",
                "![SQL meme image](https://live.staticflickr.com/65535/49163279341_1d1c114c1f.jpg \"SQL meme doge image\")\n",
                "\n",
                "# What will this session cover? 👁\n",
                "This session will show you how to do the following things in SQL:\n",
                "\n",
                "1. Differences between Tables and Views\n",
                "1. Three types of temporary tables\n",
                "     - Local temporary table\n",
                "     - Common-Table-Expression (CTE)\n",
                "     - Global temporary table\n",
                "1. Subquerying the data\n",
                "1. Ranking groups of variables by a counter\n",
                "1. Pivoting data from long to wide shape\n",
                "1. Unpivoting data from wide to long shape\n",
                "1. Data matrix/tidy data principles\n",
                ""
            ],
            "metadata": {
                "azdata_cell_guid": "5106b424-4160-4375-9cbb-3828c940ab34"
            }
        },
        {
            "cell_type": "code",
            "source": [
                "-- Set database to use\r\n",
                "USE [AdventureWorks];"
            ],
            "metadata": {
                "azdata_cell_guid": "8521f549-cd1e-4403-b5a2-ade42bbde72a"
            },
            "outputs": [],
            "execution_count": 13
        },
        {
            "cell_type": "markdown",
            "source": [
                "# 1. Difference between Table and View 🐵🙉🙊🙈\r\n",
                "**Tables** are 'physical' storages of data that you can query from, whereas **Views** are a representation of **Tables**, typically in a different format.\r\n",
                "\r\n",
                "Crucially, **Views** do no contain data, but **Tables** do. Instead, they are always querying a **Table** in the background to show you the data.\r\n",
                "\r\n",
                "To create a **View**, just prefix a humble `SELECT` statement with `CREATE VIEW [<schema_name>].[vw_<view_name>] AS (...)`.\r\n",
                "\r\n",
                "> **TIP:** If you are changing the shape of your data in a **Table** and want to capture this permanently, then you should create a **View**. You should not create a **Table** as this will duplicate your data unecessarily and take up more memory in your database. "
            ],
            "metadata": {
                "azdata_cell_guid": "eaca3e75-7812-426b-913c-148078b97791"
            }
        },
        {
            "cell_type": "code",
            "source": [
                "-- template: create a view\r\n",
                "CREATE VIEW [HumanResources].[vw_EmployeeDepartment] AS \r\n",
                "(\r\n",
                "    SELECT \r\n",
                "        table_employee.[BusinessEntityID] \r\n",
                "        ,table_person.[Title] \r\n",
                "        ,table_person.[FirstName] \r\n",
                "        ,table_person.[MiddleName] \r\n",
                "        ,table_person.[LastName] \r\n",
                "        ,table_person.[Suffix] \r\n",
                "        ,table_employee.[JobTitle]\r\n",
                "        ,[Department] = table_department.[Name]\r\n",
                "        ,table_department.[GroupName] \r\n",
                "        ,table_edudepthist.[StartDate] \r\n",
                "    FROM [HumanResources].[Employee] AS table_employee\r\n",
                "    INNER JOIN [Person].[Person] AS table_person\r\n",
                "        ON table_person.[BusinessEntityID] = table_employee.[BusinessEntityID]\r\n",
                "    INNER JOIN [HumanResources].[EmployeeDepartmentHistory] AS table_edudepthist \r\n",
                "        ON table_employee.[BusinessEntityID] = table_edudepthist.[BusinessEntityID] \r\n",
                "    INNER JOIN [HumanResources].[Department] AS table_department \r\n",
                "        ON table_edudepthist.[DepartmentID] = table_department .[DepartmentID] \r\n",
                "    WHERE table_edudepthist.[EndDate] IS NULL\r\n",
                ")"
            ],
            "metadata": {
                "azdata_cell_guid": "f803291e-532b-4412-89ba-e935ea364e87"
            },
            "outputs": [],
            "execution_count": 0
        },
        {
            "cell_type": "markdown",
            "source": [
                "# 2. Three types of temporary tables 🍺🍷🍹\r\n",
                "**Temporary tables** are useful for more complicated querying where you have to store the results of a table transformation at an intermediate stage to perform another transformation on top.\r\n",
                "\r\n",
                "There are three types of temporary tables in SQL which you can create:\r\n",
                "1. Local temporary table\r\n",
                "1. Common Table Expression (CTE)\r\n",
                "1. Global temporary table\r\n",
                "\r\n",
                "We will outline below the subtle differences between each, and provide advice on when you would want to use each one.\r\n",
                "\r\n",
                ""
            ],
            "metadata": {
                "azdata_cell_guid": "0c5cb5ec-173c-492b-bf26-8ff14c8c879e"
            }
        },
        {
            "cell_type": "markdown",
            "source": [
                "## 2.i. Local temporary table 🍺\r\n",
                "When you create a **local temporary table**, you are storing it temporarily in your current SQL session (so the temporary table resides on the window pane where you wrote the code to create the temporary table). This means you can run the chunk of your code that creates the **local temporary table**, then retrieve the results later so you can perform another transformation on it in the *same* window pane where you wrote the code to create the **local temporary table**.\r\n",
                "\r\n",
                "It does not mean you can retrieve the results of a **local temporary table** outside of the window pane that has the code which creates the table.\r\n",
                "\r\n",
                "To create a **local temporary table**, use the `INTO #<temp_table_name>` statement right before you write the `FROM <table_name>...` part.\r\n",
                "\r\n",
                "> **TIP:** Sometimes, you would want to run a query again after making a tweak to it. A **local temporary table** cannot be overwritten so running the query again will lead to an error. To overcome this, you will need to delete the table first, then run the query again to create it. This quickly gets annoying so one way to succintly avoid creating **local temporary tables** and then ad-hoc-ly deleting them is to include the following line at the top of your code: `IF OBJECT_ID('tempdb..#<temp_table_name>') IS NOT NULL THEN DROP TABLE #<temp_table_name>`"
            ],
            "metadata": {
                "azdata_cell_guid": "4d729086-f22f-4691-8c4d-be6b64017d84"
            }
        },
        {
            "cell_type": "code",
            "source": [
                "-- store into a local temporary table\r\n",
                "SELECT [ProductID]\r\n",
                "    ,[Name]\r\n",
                "    ,[ProductNumber]\r\n",
                "    ,[Color]\r\n",
                "    ,[StandardCost]\r\n",
                "    ,[ListPrice]\r\n",
                "    ,[DaysToManufacture]\r\n",
                "    ,[DailyCostOfManufacture] = CASE \r\n",
                "        WHEN [DaysToManufacture] = 0 THEN 0\r\n",
                "        ELSE [StandardCost]/[DaysToManufacture]\r\n",
                "        END\r\n",
                "    ,[SellStartDate]\r\n",
                "    ,[SellEndDate]\r\n",
                "    ,[DailyUnitRevenue] = CASE\r\n",
                "        WHEN [SellStartDate] = [SellEndDate] THEN 0\r\n",
                "        ELSE [ListPrice]/CAST(([SellEndDate] - [SellStartDate]) AS FLOAT)\r\n",
                "        END\r\n",
                "    ,[DiscontinuedDate]\r\n",
                "INTO #table_templocal\r\n",
                "FROM [Production].[Product];"
            ],
            "metadata": {
                "azdata_cell_guid": "4d258992-9c87-4e16-b10e-7eb8b6b7984b"
            },
            "outputs": [],
            "execution_count": 4
        },
        {
            "cell_type": "code",
            "source": [
                "-- call results of local temporary table separately and transform\r\n",
                "SELECT [ProductID]\r\n",
                "    ,[Name]\r\n",
                "    ,[ProductNumber]\r\n",
                "    ,[Color]\r\n",
                "    ,[StandardCost]\r\n",
                "    ,[ListPrice]\r\n",
                "    ,[DaysToManufacture]\r\n",
                "    ,[DailyCostOfManufacture]\r\n",
                "    ,[DailyUnitProfit] = [DailyUnitRevenue] - [DailyCostOfManufacture]\r\n",
                "    ,[SellStartDate]\r\n",
                "    ,[SellEndDate]\r\n",
                "    ,[DiscontinuedDate]\r\n",
                "FROM #table_templocal\r\n",
                "WHERE [DailyCostOfManufacture] > 0\r\n",
                "    AND [DailyUnitRevenue] > 0;"
            ],
            "metadata": {
                "azdata_cell_guid": "664babc8-a022-473f-ac3c-9f3d201173ce"
            },
            "outputs": [],
            "execution_count": 0
        },
        {
            "cell_type": "markdown",
            "source": [
                "## 2.ii. Common-Table-Expression (CTE) 🍷\r\n",
                "When you are creating a **CTE**, you are storing it temporarily in your current query. This means that the results of your query cannot be retrieved in a later part of your code unless you explicitly run it *alongside* the code that creates the **CTE**\r\n",
                "\r\n",
                "As the **CTE** does not exist outside your current query, then there is no need to delete it explicitly when you want to create it again. You only need to run the code to create it again.\r\n",
                "\r\n",
                "To create a **CTE**, wrap your `SELECT...` statement within the round brackets of the following code, `;WITH <cte_name> AS ()...`\r\n",
                "\r\n",
                "> **TIP:** At initial glance, **CTE**s may appear to be an inferior cousin to **local temporary tables**, but they are in fact, very powerful. Due to the nature in which they only exist within the query execution itself, then they can be used in defining **Views**, to insert into a created table, and as part of the creation of other SQL objects. **Local temporary tables** typically cannot."
            ],
            "metadata": {
                "azdata_cell_guid": "2d320a9a-152f-497c-a000-d9df838707e7"
            }
        },
        {
            "cell_type": "code",
            "source": [
                "-- need to execute CTE and accompanying queries in one go\r\n",
                "WITH table_cte AS\r\n",
                "(\r\n",
                "    SELECT [ProductID]\r\n",
                "        ,[Name]\r\n",
                "        ,[ProductNumber]\r\n",
                "        ,[Color]\r\n",
                "        ,[StandardCost]\r\n",
                "        ,[ListPrice]\r\n",
                "        ,[DaysToManufacture]\r\n",
                "        ,[DailyCostOfManufacture] = CASE \r\n",
                "            WHEN [DaysToManufacture] = 0 THEN 0\r\n",
                "            ELSE [StandardCost]/[DaysToManufacture]\r\n",
                "            END\r\n",
                "        ,[SellStartDate]\r\n",
                "        ,[SellEndDate]\r\n",
                "        ,[DailyUnitRevenue] = CASE\r\n",
                "            WHEN [SellStartDate] = [SellEndDate] THEN 0\r\n",
                "            ELSE [ListPrice]/CAST(([SellEndDate] - [SellStartDate]) AS FLOAT)\r\n",
                "            END\r\n",
                "        ,[DiscontinuedDate]\r\n",
                "    FROM [Production].[Product]\r\n",
                ")\r\n",
                "\r\n",
                "SELECT [ProductID]\r\n",
                "    ,[Name]\r\n",
                "    ,[ProductNumber]\r\n",
                "    ,[Color]\r\n",
                "    ,[StandardCost]\r\n",
                "    ,[ListPrice]\r\n",
                "    ,[DaysToManufacture]\r\n",
                "    ,[DailyCostOfManufacture]\r\n",
                "    ,[DailyUnitProfit] = [DailyUnitRevenue] - [DailyCostOfManufacture]\r\n",
                "    ,[SellStartDate]\r\n",
                "    ,[SellEndDate]\r\n",
                "    ,[DiscontinuedDate]\r\n",
                "FROM table_cte\r\n",
                "WHERE [DailyCostOfManufacture] > 0\r\n",
                "    AND [DailyUnitRevenue] > 0;"
            ],
            "metadata": {
                "azdata_cell_guid": "c538e293-53fa-4155-a1ab-5df58c518130"
            },
            "outputs": [],
            "execution_count": 9
        },
        {
            "cell_type": "markdown",
            "source": [
                "## 2.iii. Global temporary table 🍹\r\n",
                "When you are creating a **global temporary table**, you are storing it *permanently* on a database, `[tempdb]`, so that others using the same server can access. \r\n",
                "\r\n",
                "In contrast to the other two temporary tables, **local temporary tables** and **CTEs**, you need to explicitly delete these tables.\r\n",
                "\r\n",
                "Creating a **global temporary table** is like creating a **local temporary table**, just use the `INTO <##temp_table_name>` statement right before you write the `FROM <##table_name>...` part. Notice the emphasis on two hash symbols, `##`, instead of just one which is used for **local temporary tables**.\r\n",
                "\r\n",
                "> **WARNING:** The `[tempdb]` database stores these **global temporary tables**, and as this database is somewhat invisible since it is hidden in the *Object Explorer* on SSMS, one can often forget to delete the table afterwards to save space. This is why it is seldom advised to create a **global temporary table**. "
            ],
            "metadata": {
                "azdata_cell_guid": "77b6b8bd-7d29-4ac5-9c73-e78ae19361e2"
            }
        },
        {
            "cell_type": "code",
            "source": [
                "-- store into a global temporary table\r\n",
                "SELECT [ProductID]\r\n",
                "    ,[Name]\r\n",
                "    ,[ProductNumber]\r\n",
                "    ,[Color]\r\n",
                "    ,[StandardCost]\r\n",
                "    ,[ListPrice]\r\n",
                "    ,[DaysToManufacture]\r\n",
                "    ,[DailyCostOfManufacture] = CASE \r\n",
                "        WHEN [DaysToManufacture] = 0 THEN 0\r\n",
                "        ELSE [StandardCost]/[DaysToManufacture]\r\n",
                "        END\r\n",
                "    ,[SellStartDate]\r\n",
                "    ,[SellEndDate]\r\n",
                "    ,[DailyUnitRevenue] = CASE\r\n",
                "        WHEN [SellStartDate] = [SellEndDate] THEN 0\r\n",
                "        ELSE [ListPrice]/CAST(([SellEndDate] - [SellStartDate]) AS FLOAT)\r\n",
                "        END\r\n",
                "    ,[DiscontinuedDate]\r\n",
                "INTO ##table_tempglobal\r\n",
                "FROM [Production].[Product];"
            ],
            "metadata": {
                "azdata_cell_guid": "f3486f36-eaea-4f14-b6bb-a8bb32bc203c"
            },
            "outputs": [],
            "execution_count": 19
        },
        {
            "cell_type": "code",
            "source": [
                "-- call results of local temporary table separately and transform\r\n",
                "SELECT [ProductID]\r\n",
                "    ,[Name]\r\n",
                "    ,[ProductNumber]\r\n",
                "    ,[Color]\r\n",
                "    ,[StandardCost]\r\n",
                "    ,[ListPrice]\r\n",
                "    ,[DaysToManufacture]\r\n",
                "    ,[DailyCostOfManufacture]\r\n",
                "    ,[DailyUnitProfit] = [DailyUnitRevenue] - [DailyCostOfManufacture]\r\n",
                "    ,[SellStartDate]\r\n",
                "    ,[SellEndDate]\r\n",
                "    ,[DiscontinuedDate]\r\n",
                "FROM ##table_tempglobal\r\n",
                "WHERE [DailyCostOfManufacture] > 0\r\n",
                "    AND [DailyUnitRevenue] > 0;"
            ],
            "metadata": {
                "azdata_cell_guid": "ac84dbb1-83e9-4f05-9895-21516773c2cc"
            },
            "outputs": [],
            "execution_count": 20
        },
        {
            "cell_type": "code",
            "source": [
                "-- delete global temporary table as good practice\r\n",
                "DROP TABLE ##table_tempglobal"
            ],
            "metadata": {
                "azdata_cell_guid": "2c413e72-198e-4f76-8a4a-df5ef4ada46a"
            },
            "outputs": [],
            "execution_count": 21
        },
        {
            "cell_type": "markdown",
            "source": [
                "# 3. Subquerying the data 🤹‍♀️\r\n",
                "Akin to **temporary tables**, **subquerying** your data is an alternative way to store temporary results of your queries to query on top of.\r\n",
                "\r\n",
                "It is of closer relation to **CTEs** because of the way the results are stored within the instance in which the query is run. Once the query finishes running, the table created from the **subquery** no longer exists.\r\n",
                "\r\n",
                "To **subquery** your data, wrap the primary part of your query inside the round braces of the secondaty part, `...FROM (...) ...`.\r\n",
                "\r\n",
                "> **TIP:** **Subqueries** are sometimes harder to read and understand than using **temporary tables**. Using **temporary tables** allows you separate out your logic to create the table in an intuitively ordered format, whereas with **subquerying**, it is not obvious that the query hidden within the `...FROM(...)...` is ran first then followed by the outer part of the query. Only in certain scenarios are **subqueries** necessary such as (5.) and (6.) when we **pivot** and **unpivot** data. "
            ],
            "metadata": {
                "azdata_cell_guid": "182942f6-4b79-4cb5-a104-bb78f6f18939"
            }
        },
        {
            "cell_type": "code",
            "source": [
                "-- subquery to succintly find high salaries paid\r\n",
                "SELECT [BusinessEntityID]\r\n",
                "\t,[RateChangeDate]\r\n",
                "\t,[Rate]\r\n",
                "    ,[PayFrequency]\r\n",
                "    ,[TotalPaid]\r\n",
                "FROM\r\n",
                "(\r\n",
                "\tSELECT [BusinessEntityID]\r\n",
                "\t\t  ,[RateChangeDate]\r\n",
                "\t\t  ,[Rate]\r\n",
                "\t\t  ,[PayFrequency]\r\n",
                "\t\t  ,[TotalPaid] = [Rate] * [PayFrequency]\r\n",
                "\tFROM [HumanResources].[EmployeePayHistory]\r\n",
                ") AS table_intermediate\r\n",
                "WHERE [TotalPaid] > 100;"
            ],
            "metadata": {
                "azdata_cell_guid": "8479654c-9b86-4513-a25b-f74f2dcf7849"
            },
            "outputs": [],
            "execution_count": 14
        },
        {
            "cell_type": "markdown",
            "source": [
                "## EXERCISE: Subquerying vs temporary table\r\n",
                "**Question:** Can you rewrite the query in (2.) to use **subquerying** instead?"
            ],
            "metadata": {
                "azdata_cell_guid": "fd8d1b79-b1b6-40a2-a55a-bc005da39391"
            }
        },
        {
            "cell_type": "code",
            "source": [
                "-- Please write your answer below"
            ],
            "metadata": {
                "azdata_cell_guid": "e5119885-3e36-4378-b641-e6bb67ce21bc"
            },
            "outputs": [],
            "execution_count": 3
        },
        {
            "cell_type": "markdown",
            "source": [
                "# 4. Ranking groups of variables by a counter 🎾\r\n",
                "There are times when you want to **rank groups of your variables** in some order so you can perform manipulations on top. These situations could be:\r\n",
                "1. When you have annual data being updated at least two times in a year, and you want to identify which rows of your data are the latest based on a column that identifies when the data was imported.\r\n",
                "1. When you want to remove 'duplicate' rows in your table based on a ordered column.\r\n",
                "\r\n",
                "In other words, you can think of this like **ordering** your table, but rather than order on the entire table, which is what we covered in the *Light-user* session, we are ranking/ordering groups and subgroups within the table.\r\n",
                "\r\n",
                "To **rank** groups of variables by a counter, you will need to do the following:\r\n",
                "1. Create a new column, `[ColumnName_New]`\r\n",
                "2. Assign the following to it: \r\n",
                "`[ColumnName_New] = [ROW_NUMBER() OVER (PARTITION BY [ColumnName_1] , ... [ColumnName_n]) ORDER BY [ColumnName_i], ..., [ColumnName_k] ASC/DESC)`  \r\n",
                "\r\n",
                "> **USER STORY:** *As a bedroom hacker seeking an exciting life working as an embedded operative for a disruptive communication company who wrap their tentacles secretly around phone, internet, instant messaging and other channels, I want to be able to retrive everyone's latest addresses so I can plan a larges-cale DDoS attack on the biggest websites used by the most users.*\r\n",
                ""
            ],
            "metadata": {
                "azdata_cell_guid": "82d50f5f-e1d2-4bb4-9bec-257f831485c8"
            }
        },
        {
            "cell_type": "code",
            "source": [
                "-- remove 'duplicate' values of [AddressLine1], [City] and [StateProvinceID]\r\n",
                "SELECT [AddressID]\r\n",
                "      ,[AddressLine1]\r\n",
                "      ,[AddressLine2]\r\n",
                "      ,[City]\r\n",
                "      ,[StateProvinceID]\r\n",
                "\t  ,[PostalCode]\r\n",
                "FROM\r\n",
                "(\r\n",
                "\tSELECT [AddressID]\r\n",
                "\t\t,[AddressLine1]\r\n",
                "\t\t,[AddressLine2]\r\n",
                "\t\t,[City]\r\n",
                "\t\t,[StateProvinceID]\r\n",
                "\t\t,[RowNumber] = ROW_NUMBER() OVER \r\n",
                "\t\t(\r\n",
                "\t\t\tPARTITION BY [AddressLine1], [City], [StateProvinceID] \r\n",
                "\t\t\tORDER BY [ModifiedDate] DESC\r\n",
                "\t\t)\r\n",
                "\t\t,[PostalCode]\r\n",
                "\tFROM [Person].[Address]\r\n",
                ") AS table_intermediate\r\n",
                "-- remove duplicates\r\n",
                "WHERE [RowNumber] = 1;"
            ],
            "metadata": {
                "azdata_cell_guid": "00cf2f68-d620-47a0-b5d6-75551e4fddba"
            },
            "outputs": [],
            "execution_count": 15
        },
        {
            "cell_type": "markdown",
            "source": [
                "## EXERCISE: Ranking groups of variables by a counter with subquerying\r\n",
                "**Question:** Can you rewrite the above query in (4.) using either a **local temporary table** or **CTE** instead of subquerying?"
            ],
            "metadata": {
                "azdata_cell_guid": "e02ce52e-3317-4c7e-893c-173b5fad1c41"
            }
        },
        {
            "cell_type": "code",
            "source": [
                "-- Please write your answer below"
            ],
            "metadata": {
                "azdata_cell_guid": "f9b04ae2-30e3-47fe-a1b2-8b327d4ace60"
            },
            "outputs": [],
            "execution_count": 5
        },
        {
            "cell_type": "markdown",
            "source": [
                "# 5. Pivoting data from long to wide shape 💃\r\n",
                "**Pivoting data** so that you have rows within a column being transposed into columns is useful for various purposes like *one-hot encoding* your categorical data before applying machine-learning models on it in Python, or for presentation purposes.\r\n",
                "\r\n",
                "A good way of thinking about **pivoting** is that you are going from a thinner and longer table to a wider and shorter table.\r\n",
                "\r\n",
                "When **pivoting** your data, it is useful to know what you are **pivoting** across, so typically, you need to understand the unique enties in the column that's being pivoted across.\r\n",
                "\r\n",
                "To **pivot** your data, it is quite involved to describe at a high-level so the example below will provide a better description of how it works."
            ],
            "metadata": {
                "azdata_cell_guid": "2ffd3868-3902-4cb0-a139-e789dcc2c380"
            }
        },
        {
            "cell_type": "code",
            "source": [
                "-- check unique values for [Gender] as pivoting across this\r\n",
                "SELECT DISTINCT [Gender] FROM [HumanResources].[Employee];\r\n",
                "\r\n",
                "-- pivot across [Gender] on [VacationHours]\r\n",
                "SELECT [BusinessEntityID]\r\n",
                "      ,[NationalIDNumber]\r\n",
                "      ,[LoginID]\r\n",
                "      ,[JobTitle]\r\n",
                "      ,[BirthDate]\r\n",
                "      ,[MaritalStatus]\r\n",
                "      ,[VacationHours_Female] = [F]\r\n",
                "      ,[VacationHours_Male] = [M]\r\n",
                "FROM\r\n",
                "(\r\n",
                "\tSELECT [BusinessEntityID]\r\n",
                "            ,[NationalIDNumber]\r\n",
                "            ,[LoginID]\r\n",
                "            ,[JobTitle]\r\n",
                "            ,[BirthDate]\r\n",
                "            ,[MaritalStatus]\r\n",
                "            ,[Gender]\r\n",
                "            ,[VacationHours]\r\n",
                "\tFROM [HumanResources].[Employee]\r\n",
                ") AS table_intermediate\r\n",
                "PIVOT\r\n",
                "(\r\n",
                "\tAVG([VacationHours]) \r\n",
                "\tFOR [Gender] IN ([F], [M])\r\n",
                ") AS table_end;"
            ],
            "metadata": {
                "azdata_cell_guid": "572d9d4e-7885-4583-aa01-b91c2a70f4db"
            },
            "outputs": [],
            "execution_count": 16
        },
        {
            "cell_type": "markdown",
            "source": [
                "## EXERCISE: Pivoting\r\n",
                "**QUESTION:** In the above query (5.), pivot across `[MaritalStatus]` on `[VacationHours]`."
            ],
            "metadata": {
                "azdata_cell_guid": "bb404c27-0bc1-4003-9917-a761ea5ebdf0"
            }
        },
        {
            "cell_type": "code",
            "source": [
                "-- Please write your answer below"
            ],
            "metadata": {
                "azdata_cell_guid": "01af1223-0c24-4c1f-bbdc-883adef6339a"
            },
            "outputs": [],
            "execution_count": 7
        },
        {
            "cell_type": "markdown",
            "source": [
                "# 6. Unpivoting data from wide to long shape 🐎\r\n",
                "**Unpivoting** data so that you have columns being transposed to rows is useful when trying to structure/format your data consistently for different analytical software programs or for presentation purposes.\r\n",
                "\r\n",
                "A good way to think about **unpivoting** is that you are going from your table being wider and shorter to it being thinner and longer.\r\n",
                "\r\n",
                "To **unpivot** your data, it is quite involved to describe at a high-level so the example below will provide a better description of how it works."
            ],
            "metadata": {
                "azdata_cell_guid": "a647a96c-49e8-4388-9d68-f3e3c0d6a2b5"
            }
        },
        {
            "cell_type": "code",
            "source": [
                "-- unpivot on [StartDate] and [EndDate]\r\n",
                "SELECT [BusinessEntityID]\r\n",
                "      ,[DepartmentID]\r\n",
                "      ,[ShiftID]\r\n",
                "      ,[DateType]\r\n",
                "      ,[DateValue]\r\n",
                "FROM\r\n",
                "(\r\n",
                "\tSELECT [BusinessEntityID]\r\n",
                "\t\t  ,[DepartmentID]\r\n",
                "\t\t  ,[ShiftID]\r\n",
                "\t\t  ,[StartDate]\r\n",
                "\t\t  ,[EndDate]\r\n",
                "\tFROM [HumanResources].[EmployeeDepartmentHistory]\r\n",
                ") AS table_intermediate\r\n",
                "UNPIVOT\r\n",
                "(\r\n",
                "\t[DateValue]\r\n",
                "\tFOR [DateType] IN ([StartDate], [EndDate])\r\n",
                ") AS table_end;"
            ],
            "metadata": {
                "azdata_cell_guid": "d7cfe9af-3cf8-42c4-b65e-0b459807d49c"
            },
            "outputs": [],
            "execution_count": 17
        },
        {
            "cell_type": "markdown",
            "source": [
                "# 7. Data matrix/tidy data principles 📋\r\n",
                "It is best practice from an analyst's perspective for tables to be formatted in data matrix/tidy data format. For a table to be formatted in this way, it must adhere to two things:\r\n",
                "- Each variable is a column\r\n",
                "- Each observation is a row\r\n",
                "\r\n",
                "It is best practice in the way that it standardises the way data is organised so the data cleaning process is easier and faster.\r\n",
                "\r\n",
                "Whereas for messy, datasets, you can think of them like this:\r\n",
                "> *Happy families are all alike; every unhappy family is unhappy in its own way* - Leo Tolstoy\r\n",
                "\r\n",
                "From this persepctive, you can imagine that a messy dataset requires some initial upfront cost to understand how it is structured before you can clean it.\r\n",
                "\r\n",
                "For a more thorough and example-laden discussion of tidy data principles, see this paper [here](https://cran.r-project.org/web/packages/tidyr/vignettes/tidy-data.html)\r\n",
                "\r\n",
                "> **TIP:** This principle applies more generally outside of SQL.\r\n",
                "\r\n",
                "**Note:** The query below is quite difficult but think of it in the way it incorporates several things we learnt today, can you spot them?"
            ],
            "metadata": {
                "azdata_cell_guid": "9e1a5d0f-7604-44a0-a952-87256d35af86"
            }
        },
        {
            "cell_type": "code",
            "source": [
                "-- create first table in messy format!\r\n",
                "WITH table_messy_a AS \r\n",
                "(\r\n",
                "    SELECT * \r\n",
                "    FROM \r\n",
                "    (\r\n",
                "        VALUES\r\n",
                "            ('Jane Smith', NULL, 18)\r\n",
                "            ,('Xi Tang', 4, 1)\r\n",
                "            ,('Park Min Woo', 6, 6)\r\n",
                "    ) AS table_sub ([PersonName], [Treatment_a], [Treatment_b])\r\n",
                ")\r\n",
                "SELECT * \r\n",
                "FROM table_messy_a;\r\n",
                "\r\n",
                "-- create second table in messy format!\r\n",
                "WITH table_messy_b AS\r\n",
                "(\r\n",
                "    SELECT *\r\n",
                "    FROM \r\n",
                "    (\r\n",
                "        VALUES\r\n",
                "            ('a', NULL, 4, 6)\r\n",
                "            ,('b', 18, 1, 6)\r\n",
                "    ) AS table_sub ([Treatment], [JaneSmith], [XiTang], [ParkMinWoo])\r\n",
                ")\r\n",
                "SELECT * \r\n",
                "FROM table_messy_b;"
            ],
            "metadata": {
                "azdata_cell_guid": "6f8719c9-a233-42fd-81da-dd40fa4c0c85"
            },
            "outputs": [],
            "execution_count": 9
        },
        {
            "cell_type": "code",
            "source": [
                "-- create above table in tidy format\r\n",
                "WITH table_tidy AS\r\n",
                "(\r\n",
                "    SELECT *\r\n",
                "    FROM\r\n",
                "    (\r\n",
                "        VALUES\r\n",
                "            ('Jane Smith', 'a', NULL)\r\n",
                "            ,('Jane SMith', 'b', 18)\r\n",
                "            ,('Xi Tang', 'a', 4)\r\n",
                "            ,('Xi Tang', 'b', 1)\r\n",
                "            ,('Park Min Woo', 'a', 6)\r\n",
                "            ,('Park Min Woo', 'b', 6)\r\n",
                "    ) AS table_sub ([PersonName], [TreatmentType], [TreatmentValue])\r\n",
                ")\r\n",
                "SELECT *\r\n",
                "FROM table_tidy;"
            ],
            "metadata": {
                "azdata_cell_guid": "2e77bb75-df22-4138-aeca-96777119a3e2"
            },
            "outputs": [],
            "execution_count": 10
        },
        {
            "cell_type": "markdown",
            "source": [
                "*Aside: Whilst **data matrix/tidy data principles** are best practice for analysts, it is not for data architects working in SQL. Best practice for them would be to have tables in **long format**. Such a format enables total flexibility over table structure. This means when a new column needs to be added to a table, the table does not need to be deleted and created again with the new table (including the additional time required to import the data). Instead, such a format enables the additional column to be included as an extra row.* \r\n",
                "\r\n",
                "Further discussion of this is outside the scope of this training session, but if you want to find out more about this, then please read up on **snowflake schema** and **star schema**."
            ],
            "metadata": {
                "azdata_cell_guid": "f2e59ace-da4c-4b66-81dd-af8e75fd54f9"
            }
        },
        {
            "cell_type": "markdown",
            "source": [
                "## EXERCISE: Tidy data principles\r\n",
                "**QUESTION:** Is the `[Sales].[SpecialOffer]` table in a tidy data format? If it is not in tidy data format, how can you manipulate the dataset so that it is?"
            ],
            "metadata": {
                "azdata_cell_guid": "0a9068cb-0aff-4099-a47d-8438985aad81"
            }
        },
        {
            "cell_type": "code",
            "source": [
                "-- Please write your answer below"
            ],
            "metadata": {
                "azdata_cell_guid": "61762bad-0577-4178-818a-1bfc63c266bc"
            },
            "outputs": [],
            "execution_count": 11
        }
    ]
}